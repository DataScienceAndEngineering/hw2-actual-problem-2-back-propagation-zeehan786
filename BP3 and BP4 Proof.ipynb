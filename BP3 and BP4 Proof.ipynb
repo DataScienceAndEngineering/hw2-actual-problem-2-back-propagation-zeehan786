{
 "cells": [
  {
   "cell_type": "markdown",
   "id": "e6dd7fb0",
   "metadata": {},
   "source": [
    "Proof for BP3:"
   ]
  },
  {
   "cell_type": "markdown",
   "id": "d7dabfa6",
   "metadata": {},
   "source": [
    "$$\n",
    " \\frac{\\partial C}{\\partial b_j^l}\n",
    "   = \\delta_j^l\n",
    "$$"
   ]
  },
  {
   "cell_type": "markdown",
   "id": "fc76d5eb",
   "metadata": {},
   "source": [
    "$$\n",
    "  \\frac{\\partial C}{\\partial b_j^l} \n",
    "   =  \\frac{\\partial C}{\\partial z_j^l}\n",
    "  * \\frac{\\partial z_j^l}{\\partial b_j^l} \\text{ (Chain Rule) } \\\\\n",
    "$$"
   ]
  },
  {
   "cell_type": "markdown",
   "id": "ecf57afe",
   "metadata": {},
   "source": [
    "$$\n",
    " \\frac{\\partial C}{\\partial z_j^l}\n",
    "  * \\frac{\\sum_{k} \\partial (w^l_k \\ a^{l-1}_k \\ + \\ b^l_k)}{\\partial b_j^l}  \\ \\ \\ \\ \\text{Since }z_j^l = w^l \\ a^{l-1} \\ + \\ b^l\n",
    "$$"
   ]
  },
  {
   "cell_type": "markdown",
   "id": "b936bfe0",
   "metadata": {},
   "source": [
    "$$\n",
    "  \\frac{\\partial C}{\\partial z_j^l}\n",
    "  * \\frac{\\sum_{k} \\partial (w^l_k \\ a^{l-1}_k \\ + \\ b^l_k)}{\\partial b_j^l} = \\frac{\\partial C}{\\partial z_j^l} \\ \\ \\ \\ \\text{(Since} \\frac{\\partial ( w^l_k \\ a^{l-1}_k \\ + \\ b^l_k))}{\\partial b_j^l} = 1 \\ \\ \\ \\text{(when k = j) and } \\ \\frac{\\partial ( w^l_k \\ a^{l-1}_k \\ + \\ b^l_k))}{\\partial b_j^l} = 0 \\ \\ \\ \\text{(when k!=j)  )}\n",
    "$$"
   ]
  },
  {
   "cell_type": "markdown",
   "id": "68210d2e",
   "metadata": {},
   "source": [
    "$$\n",
    " \\frac{\\partial C}{\\partial z_j^l} = \\delta_j^l \\ \\ \\ \\ \\text{By Definition}\n",
    "$$"
   ]
  },
  {
   "cell_type": "markdown",
   "id": "38470b08",
   "metadata": {},
   "source": [
    "$$\n",
    " \\text{Hence, Proven:}  \\ \\ \\frac{\\partial C}{\\partial b_j^l}\n",
    "   = \\delta_j^l\n",
    "$$"
   ]
  },
  {
   "cell_type": "markdown",
   "id": "e8cddf61",
   "metadata": {},
   "source": [
    "Proof for BP4:"
   ]
  },
  {
   "cell_type": "markdown",
   "id": "315348d2",
   "metadata": {},
   "source": [
    " $$\n",
    " \\frac{\\partial C}{\\partial w_{jk}^l}\n",
    "   = a^{l-1}_k \\delta_j^l\n",
    "$$"
   ]
  },
  {
   "cell_type": "markdown",
   "id": "6baa3e73",
   "metadata": {},
   "source": [
    "$$\n",
    "  \\frac{\\partial C}{\\partial w_{jk}^l} \n",
    "   =  \\frac{\\partial C}{\\partial z_j^l}\n",
    "  * \\frac{\\partial z_j^l}{\\partial w_{jk}^l} \\text{ (Chain Rule)} \\\\\n",
    "$$"
   ]
  },
  {
   "cell_type": "markdown",
   "id": "e37e9460",
   "metadata": {},
   "source": [
    "$$\n",
    "{\\delta_j^l}\n",
    "  * \\frac{\\partial z_j^l}{\\partial w_{jk}^l} \\ \\ \\ \\text{(Since } {\\delta_j^l} = \\frac{\\partial C}{\\partial z_j^l} \\text{)}\n",
    "$$"
   ]
  },
  {
   "cell_type": "markdown",
   "id": "481c719f",
   "metadata": {},
   "source": [
    "$$\n",
    "{\\delta_j^l}\n",
    "  * \\frac{\\partial \\sum_{m} \\partial (w^l_{jm} \\ a^{l-1}_m \\ + \\ b^l_m)}{\\partial w^l_{jk}} \\ \\ \\ \\text{Since }z_j^l = w^l \\ a^{l-1} \\ + \\ b^l\n",
    "$$"
   ]
  },
  {
   "cell_type": "markdown",
   "id": "5e12ac30",
   "metadata": {},
   "source": [
    "$$\n",
    "{\\delta_j^l} a^{l-1}_k \\ \\ \\text{(Since} \\frac{\\partial (w^l_{jm} \\ a^{l-1}_m \\ + \\ b^l_m)}{\\partial w^l_{jk}} = a^{l-1}_k \\ \\ \\ \\text{(when m = k) and } \\  \\frac{\\partial (w^l_{jm} \\ a^{l-1}_m \\ + \\ b^l_m))}{\\partial w^l_{jk}} = 0 \\ \\ \\ \\text{(when m!=k) )}\n",
    "$$"
   ]
  },
  {
   "cell_type": "markdown",
   "id": "027d4cf4",
   "metadata": {},
   "source": [
    "$$\n",
    "{\\delta_j^l a^{l-1}_k} = {a^{l-1}_k \\delta_j^l} \\text { (Commutative Property of Multiplication)}\n",
    "$$"
   ]
  },
  {
   "cell_type": "markdown",
   "id": "5c232288",
   "metadata": {},
   "source": [
    "$$\n",
    "\\text{Therefore}  \\frac{\\partial C}{\\partial w_{jk}^l} = {a^{l-1}_k \\delta_j^l} \\text { (Proven)}\n",
    "$$"
   ]
  }
 ],
 "metadata": {
  "kernelspec": {
   "display_name": "Python 3 (ipykernel)",
   "language": "python",
   "name": "python3"
  },
  "language_info": {
   "codemirror_mode": {
    "name": "ipython",
    "version": 3
   },
   "file_extension": ".py",
   "mimetype": "text/x-python",
   "name": "python",
   "nbconvert_exporter": "python",
   "pygments_lexer": "ipython3",
   "version": "3.10.11"
  }
 },
 "nbformat": 4,
 "nbformat_minor": 5
}
